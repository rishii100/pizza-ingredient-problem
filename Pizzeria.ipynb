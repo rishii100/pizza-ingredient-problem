{
 "cells": [
  {
   "cell_type": "code",
   "execution_count": 1,
   "id": "ca8b0b9d",
   "metadata": {},
   "outputs": [
    {
     "data": {
      "text/html": [
       "<div>\n",
       "<style scoped>\n",
       "    .dataframe tbody tr th:only-of-type {\n",
       "        vertical-align: middle;\n",
       "    }\n",
       "\n",
       "    .dataframe tbody tr th {\n",
       "        vertical-align: top;\n",
       "    }\n",
       "\n",
       "    .dataframe thead th {\n",
       "        text-align: right;\n",
       "    }\n",
       "</style>\n",
       "<table border=\"1\" class=\"dataframe\">\n",
       "  <thead>\n",
       "    <tr style=\"text-align: right;\">\n",
       "      <th></th>\n",
       "      <th>4986</th>\n",
       "    </tr>\n",
       "  </thead>\n",
       "  <tbody>\n",
       "    <tr>\n",
       "      <th>0</th>\n",
       "      <td>5 ingredient9922 ingredient3341 ingredient7670...</td>\n",
       "    </tr>\n",
       "    <tr>\n",
       "      <th>1</th>\n",
       "      <td>1 ingredient4654</td>\n",
       "    </tr>\n",
       "    <tr>\n",
       "      <th>2</th>\n",
       "      <td>5 ingredient2920 ingredient1643 ingredient5580...</td>\n",
       "    </tr>\n",
       "    <tr>\n",
       "      <th>3</th>\n",
       "      <td>2 ingredient5259 ingredient9496</td>\n",
       "    </tr>\n",
       "    <tr>\n",
       "      <th>4</th>\n",
       "      <td>4 ingredient2857 ingredient9130 ingredient4932...</td>\n",
       "    </tr>\n",
       "    <tr>\n",
       "      <th>...</th>\n",
       "      <td>...</td>\n",
       "    </tr>\n",
       "    <tr>\n",
       "      <th>9967</th>\n",
       "      <td>5 ingredient1508 ingredient233 ingredient3435 ...</td>\n",
       "    </tr>\n",
       "    <tr>\n",
       "      <th>9968</th>\n",
       "      <td>1 ingredient6507</td>\n",
       "    </tr>\n",
       "    <tr>\n",
       "      <th>9969</th>\n",
       "      <td>1 ingredient4160</td>\n",
       "    </tr>\n",
       "    <tr>\n",
       "      <th>9970</th>\n",
       "      <td>3 ingredient6049 ingredient7794 ingredient3649</td>\n",
       "    </tr>\n",
       "    <tr>\n",
       "      <th>9971</th>\n",
       "      <td>1 ingredient172</td>\n",
       "    </tr>\n",
       "  </tbody>\n",
       "</table>\n",
       "<p>9972 rows × 1 columns</p>\n",
       "</div>"
      ],
      "text/plain": [
       "                                                   4986\n",
       "0     5 ingredient9922 ingredient3341 ingredient7670...\n",
       "1                                      1 ingredient4654\n",
       "2     5 ingredient2920 ingredient1643 ingredient5580...\n",
       "3                       2 ingredient5259 ingredient9496\n",
       "4     4 ingredient2857 ingredient9130 ingredient4932...\n",
       "...                                                 ...\n",
       "9967  5 ingredient1508 ingredient233 ingredient3435 ...\n",
       "9968                                   1 ingredient6507\n",
       "9969                                   1 ingredient4160\n",
       "9970     3 ingredient6049 ingredient7794 ingredient3649\n",
       "9971                                    1 ingredient172\n",
       "\n",
       "[9972 rows x 1 columns]"
      ]
     },
     "execution_count": 1,
     "metadata": {},
     "output_type": "execute_result"
    }
   ],
   "source": [
    "import pandas as pd\n",
    "import numpy as np\n",
    "df=pd.read_csv(\"e_elaborate.in.txt\")\n",
    "df"
   ]
  },
  {
   "cell_type": "code",
   "execution_count": 5,
   "id": "04d13254",
   "metadata": {},
   "outputs": [
    {
     "name": "stderr",
     "output_type": "stream",
     "text": [
      "C:\\Users\\VICTUS i5\\AppData\\Local\\Temp\\ipykernel_16484\\594111304.py:4: SettingWithCopyWarning: \n",
      "A value is trying to be set on a copy of a slice from a DataFrame.\n",
      "Try using .loc[row_indexer,col_indexer] = value instead\n",
      "\n",
      "See the caveats in the documentation: https://pandas.pydata.org/pandas-docs/stable/user_guide/indexing.html#returning-a-view-versus-a-copy\n",
      "  df2[\"no_of_like\"]=df2[\"like\"].apply(lambda x : int(x.split(\" \")[0]))\n"
     ]
    },
    {
     "data": {
      "text/html": [
       "<div>\n",
       "<style scoped>\n",
       "    .dataframe tbody tr th:only-of-type {\n",
       "        vertical-align: middle;\n",
       "    }\n",
       "\n",
       "    .dataframe tbody tr th {\n",
       "        vertical-align: top;\n",
       "    }\n",
       "\n",
       "    .dataframe thead th {\n",
       "        text-align: right;\n",
       "    }\n",
       "</style>\n",
       "<table border=\"1\" class=\"dataframe\">\n",
       "  <thead>\n",
       "    <tr style=\"text-align: right;\">\n",
       "      <th></th>\n",
       "      <th>like</th>\n",
       "      <th>no_of_like</th>\n",
       "    </tr>\n",
       "  </thead>\n",
       "  <tbody>\n",
       "    <tr>\n",
       "      <th>0</th>\n",
       "      <td>5 ingredient9922 ingredient3341 ingredient7670...</td>\n",
       "      <td>5</td>\n",
       "    </tr>\n",
       "    <tr>\n",
       "      <th>1</th>\n",
       "      <td>5 ingredient2920 ingredient1643 ingredient5580...</td>\n",
       "      <td>5</td>\n",
       "    </tr>\n",
       "    <tr>\n",
       "      <th>2</th>\n",
       "      <td>4 ingredient2857 ingredient9130 ingredient4932...</td>\n",
       "      <td>4</td>\n",
       "    </tr>\n",
       "    <tr>\n",
       "      <th>3</th>\n",
       "      <td>5 ingredient8806 ingredient5320 ingredient569 ...</td>\n",
       "      <td>5</td>\n",
       "    </tr>\n",
       "    <tr>\n",
       "      <th>4</th>\n",
       "      <td>2 ingredient697 ingredient8002</td>\n",
       "      <td>2</td>\n",
       "    </tr>\n",
       "  </tbody>\n",
       "</table>\n",
       "</div>"
      ],
      "text/plain": [
       "                                                like  no_of_like\n",
       "0  5 ingredient9922 ingredient3341 ingredient7670...           5\n",
       "1  5 ingredient2920 ingredient1643 ingredient5580...           5\n",
       "2  4 ingredient2857 ingredient9130 ingredient4932...           4\n",
       "3  5 ingredient8806 ingredient5320 ingredient569 ...           5\n",
       "4                     2 ingredient697 ingredient8002           2"
      ]
     },
     "execution_count": 5,
     "metadata": {},
     "output_type": "execute_result"
    }
   ],
   "source": [
    "df2=df.iloc[df.index%2==0]\n",
    "df2.columns=[\"like\"]\n",
    "df2.index=np.arange(len(df2))\n",
    "df2[\"no_of_like\"]=df2[\"like\"].apply(lambda x : int(x.split(\" \")[0]))\n",
    "df2.head()\n",
    "                                               "
   ]
  },
  {
   "cell_type": "code",
   "execution_count": 9,
   "id": "f2aed0ba",
   "metadata": {},
   "outputs": [
    {
     "data": {
      "text/html": [
       "<div>\n",
       "<style scoped>\n",
       "    .dataframe tbody tr th:only-of-type {\n",
       "        vertical-align: middle;\n",
       "    }\n",
       "\n",
       "    .dataframe tbody tr th {\n",
       "        vertical-align: top;\n",
       "    }\n",
       "\n",
       "    .dataframe thead th {\n",
       "        text-align: right;\n",
       "    }\n",
       "</style>\n",
       "<table border=\"1\" class=\"dataframe\">\n",
       "  <thead>\n",
       "    <tr style=\"text-align: right;\">\n",
       "      <th></th>\n",
       "      <th>dislike</th>\n",
       "      <th>no_of_dislike</th>\n",
       "    </tr>\n",
       "  </thead>\n",
       "  <tbody>\n",
       "    <tr>\n",
       "      <th>0</th>\n",
       "      <td>1 ingredient4654</td>\n",
       "      <td>1</td>\n",
       "    </tr>\n",
       "    <tr>\n",
       "      <th>1</th>\n",
       "      <td>2 ingredient5259 ingredient9496</td>\n",
       "      <td>2</td>\n",
       "    </tr>\n",
       "    <tr>\n",
       "      <th>2</th>\n",
       "      <td>2 ingredient2177 ingredient7332</td>\n",
       "      <td>2</td>\n",
       "    </tr>\n",
       "    <tr>\n",
       "      <th>3</th>\n",
       "      <td>1 ingredient6321</td>\n",
       "      <td>1</td>\n",
       "    </tr>\n",
       "    <tr>\n",
       "      <th>4</th>\n",
       "      <td>2 ingredient4951 ingredient8544</td>\n",
       "      <td>2</td>\n",
       "    </tr>\n",
       "  </tbody>\n",
       "</table>\n",
       "</div>"
      ],
      "text/plain": [
       "                           dislike  no_of_dislike\n",
       "0                 1 ingredient4654              1\n",
       "1  2 ingredient5259 ingredient9496              2\n",
       "2  2 ingredient2177 ingredient7332              2\n",
       "3                 1 ingredient6321              1\n",
       "4  2 ingredient4951 ingredient8544              2"
      ]
     },
     "execution_count": 9,
     "metadata": {},
     "output_type": "execute_result"
    }
   ],
   "source": [
    "df3=df.copy()\n",
    "df3=df3.iloc[df.index%2==1]\n",
    "df3.columns=[\"dislike\"]\n",
    "df3.index=np.arange(len(df3))\n",
    "df3[\"no_of_dislike\"]= df3[\"dislike\"].apply(lambda x:int(x.split(\" \")[0]))\n",
    "df3.head()\n",
    "                     "
   ]
  },
  {
   "cell_type": "code",
   "execution_count": 10,
   "id": "32400793",
   "metadata": {},
   "outputs": [
    {
     "data": {
      "text/html": [
       "<div>\n",
       "<style scoped>\n",
       "    .dataframe tbody tr th:only-of-type {\n",
       "        vertical-align: middle;\n",
       "    }\n",
       "\n",
       "    .dataframe tbody tr th {\n",
       "        vertical-align: top;\n",
       "    }\n",
       "\n",
       "    .dataframe thead th {\n",
       "        text-align: right;\n",
       "    }\n",
       "</style>\n",
       "<table border=\"1\" class=\"dataframe\">\n",
       "  <thead>\n",
       "    <tr style=\"text-align: right;\">\n",
       "      <th></th>\n",
       "      <th>like</th>\n",
       "      <th>no_of_like</th>\n",
       "      <th>dislike</th>\n",
       "      <th>no_of_dislike</th>\n",
       "    </tr>\n",
       "  </thead>\n",
       "  <tbody>\n",
       "    <tr>\n",
       "      <th>0</th>\n",
       "      <td>5 ingredient9922 ingredient3341 ingredient7670...</td>\n",
       "      <td>5</td>\n",
       "      <td>1 ingredient4654</td>\n",
       "      <td>1</td>\n",
       "    </tr>\n",
       "    <tr>\n",
       "      <th>1</th>\n",
       "      <td>5 ingredient2920 ingredient1643 ingredient5580...</td>\n",
       "      <td>5</td>\n",
       "      <td>2 ingredient5259 ingredient9496</td>\n",
       "      <td>2</td>\n",
       "    </tr>\n",
       "    <tr>\n",
       "      <th>2</th>\n",
       "      <td>4 ingredient2857 ingredient9130 ingredient4932...</td>\n",
       "      <td>4</td>\n",
       "      <td>2 ingredient2177 ingredient7332</td>\n",
       "      <td>2</td>\n",
       "    </tr>\n",
       "    <tr>\n",
       "      <th>3</th>\n",
       "      <td>5 ingredient8806 ingredient5320 ingredient569 ...</td>\n",
       "      <td>5</td>\n",
       "      <td>1 ingredient6321</td>\n",
       "      <td>1</td>\n",
       "    </tr>\n",
       "    <tr>\n",
       "      <th>4</th>\n",
       "      <td>2 ingredient697 ingredient8002</td>\n",
       "      <td>2</td>\n",
       "      <td>2 ingredient4951 ingredient8544</td>\n",
       "      <td>2</td>\n",
       "    </tr>\n",
       "  </tbody>\n",
       "</table>\n",
       "</div>"
      ],
      "text/plain": [
       "                                                like  no_of_like  \\\n",
       "0  5 ingredient9922 ingredient3341 ingredient7670...           5   \n",
       "1  5 ingredient2920 ingredient1643 ingredient5580...           5   \n",
       "2  4 ingredient2857 ingredient9130 ingredient4932...           4   \n",
       "3  5 ingredient8806 ingredient5320 ingredient569 ...           5   \n",
       "4                     2 ingredient697 ingredient8002           2   \n",
       "\n",
       "                           dislike  no_of_dislike  \n",
       "0                 1 ingredient4654              1  \n",
       "1  2 ingredient5259 ingredient9496              2  \n",
       "2  2 ingredient2177 ingredient7332              2  \n",
       "3                 1 ingredient6321              1  \n",
       "4  2 ingredient4951 ingredient8544              2  "
      ]
     },
     "execution_count": 10,
     "metadata": {},
     "output_type": "execute_result"
    }
   ],
   "source": [
    "df4=pd.concat([df2,df3],axis=1)\n",
    "df4.head()"
   ]
  },
  {
   "cell_type": "code",
   "execution_count": 11,
   "id": "2d36377d",
   "metadata": {},
   "outputs": [
    {
     "data": {
      "text/html": [
       "<div>\n",
       "<style scoped>\n",
       "    .dataframe tbody tr th:only-of-type {\n",
       "        vertical-align: middle;\n",
       "    }\n",
       "\n",
       "    .dataframe tbody tr th {\n",
       "        vertical-align: top;\n",
       "    }\n",
       "\n",
       "    .dataframe thead th {\n",
       "        text-align: right;\n",
       "    }\n",
       "</style>\n",
       "<table border=\"1\" class=\"dataframe\">\n",
       "  <thead>\n",
       "    <tr style=\"text-align: right;\">\n",
       "      <th></th>\n",
       "      <th>like</th>\n",
       "      <th>no_of_like</th>\n",
       "      <th>dislike</th>\n",
       "      <th>no_of_dislike</th>\n",
       "    </tr>\n",
       "  </thead>\n",
       "  <tbody>\n",
       "    <tr>\n",
       "      <th>0</th>\n",
       "      <td>5 ingredient9922 ingredient3341 ingredient7670...</td>\n",
       "      <td>5</td>\n",
       "      <td>1 ingredient4654</td>\n",
       "      <td>1</td>\n",
       "    </tr>\n",
       "    <tr>\n",
       "      <th>1</th>\n",
       "      <td>5 ingredient2920 ingredient1643 ingredient5580...</td>\n",
       "      <td>5</td>\n",
       "      <td>2 ingredient5259 ingredient9496</td>\n",
       "      <td>2</td>\n",
       "    </tr>\n",
       "    <tr>\n",
       "      <th>2</th>\n",
       "      <td>4 ingredient2857 ingredient9130 ingredient4932...</td>\n",
       "      <td>4</td>\n",
       "      <td>2 ingredient2177 ingredient7332</td>\n",
       "      <td>2</td>\n",
       "    </tr>\n",
       "    <tr>\n",
       "      <th>3</th>\n",
       "      <td>5 ingredient8806 ingredient5320 ingredient569 ...</td>\n",
       "      <td>5</td>\n",
       "      <td>1 ingredient6321</td>\n",
       "      <td>1</td>\n",
       "    </tr>\n",
       "    <tr>\n",
       "      <th>4</th>\n",
       "      <td>2 ingredient697 ingredient8002</td>\n",
       "      <td>2</td>\n",
       "      <td>2 ingredient4951 ingredient8544</td>\n",
       "      <td>2</td>\n",
       "    </tr>\n",
       "  </tbody>\n",
       "</table>\n",
       "</div>"
      ],
      "text/plain": [
       "                                                like  no_of_like  \\\n",
       "0  5 ingredient9922 ingredient3341 ingredient7670...           5   \n",
       "1  5 ingredient2920 ingredient1643 ingredient5580...           5   \n",
       "2  4 ingredient2857 ingredient9130 ingredient4932...           4   \n",
       "3  5 ingredient8806 ingredient5320 ingredient569 ...           5   \n",
       "4                     2 ingredient697 ingredient8002           2   \n",
       "\n",
       "                           dislike  no_of_dislike  \n",
       "0                 1 ingredient4654              1  \n",
       "1  2 ingredient5259 ingredient9496              2  \n",
       "2  2 ingredient2177 ingredient7332              2  \n",
       "3                 1 ingredient6321              1  \n",
       "4  2 ingredient4951 ingredient8544              2  "
      ]
     },
     "execution_count": 11,
     "metadata": {},
     "output_type": "execute_result"
    }
   ],
   "source": [
    "indexNames=df4[df4['no_of_dislike']>=3].index\n",
    "df4=df4.drop(indexNames)\n",
    "df4.head()"
   ]
  },
  {
   "cell_type": "code",
   "execution_count": 12,
   "id": "ed80222a",
   "metadata": {},
   "outputs": [
    {
     "data": {
      "text/html": [
       "<div>\n",
       "<style scoped>\n",
       "    .dataframe tbody tr th:only-of-type {\n",
       "        vertical-align: middle;\n",
       "    }\n",
       "\n",
       "    .dataframe tbody tr th {\n",
       "        vertical-align: top;\n",
       "    }\n",
       "\n",
       "    .dataframe thead th {\n",
       "        text-align: right;\n",
       "    }\n",
       "</style>\n",
       "<table border=\"1\" class=\"dataframe\">\n",
       "  <thead>\n",
       "    <tr style=\"text-align: right;\">\n",
       "      <th></th>\n",
       "      <th>like</th>\n",
       "    </tr>\n",
       "  </thead>\n",
       "  <tbody>\n",
       "    <tr>\n",
       "      <th>0</th>\n",
       "      <td>5 ingredient9922 ingredient3341 ingredient7670...</td>\n",
       "    </tr>\n",
       "    <tr>\n",
       "      <th>1</th>\n",
       "      <td>5 ingredient2920 ingredient1643 ingredient5580...</td>\n",
       "    </tr>\n",
       "    <tr>\n",
       "      <th>2</th>\n",
       "      <td>4 ingredient2857 ingredient9130 ingredient4932...</td>\n",
       "    </tr>\n",
       "    <tr>\n",
       "      <th>3</th>\n",
       "      <td>5 ingredient8806 ingredient5320 ingredient569 ...</td>\n",
       "    </tr>\n",
       "    <tr>\n",
       "      <th>4</th>\n",
       "      <td>2 ingredient697 ingredient8002</td>\n",
       "    </tr>\n",
       "  </tbody>\n",
       "</table>\n",
       "</div>"
      ],
      "text/plain": [
       "                                                like\n",
       "0  5 ingredient9922 ingredient3341 ingredient7670...\n",
       "1  5 ingredient2920 ingredient1643 ingredient5580...\n",
       "2  4 ingredient2857 ingredient9130 ingredient4932...\n",
       "3  5 ingredient8806 ingredient5320 ingredient569 ...\n",
       "4                     2 ingredient697 ingredient8002"
      ]
     },
     "execution_count": 12,
     "metadata": {},
     "output_type": "execute_result"
    }
   ],
   "source": [
    "df5=df4.drop([\"dislike\",\"no_of_dislike\",\"no_of_like\"],axis=1)\n",
    "df5.head()"
   ]
  },
  {
   "cell_type": "code",
   "execution_count": 13,
   "id": "3e93ea7a",
   "metadata": {},
   "outputs": [
    {
     "data": {
      "text/html": [
       "<div>\n",
       "<style scoped>\n",
       "    .dataframe tbody tr th:only-of-type {\n",
       "        vertical-align: middle;\n",
       "    }\n",
       "\n",
       "    .dataframe tbody tr th {\n",
       "        vertical-align: top;\n",
       "    }\n",
       "\n",
       "    .dataframe thead th {\n",
       "        text-align: right;\n",
       "    }\n",
       "</style>\n",
       "<table border=\"1\" class=\"dataframe\">\n",
       "  <thead>\n",
       "    <tr style=\"text-align: right;\">\n",
       "      <th></th>\n",
       "      <th>dislike</th>\n",
       "    </tr>\n",
       "  </thead>\n",
       "  <tbody>\n",
       "    <tr>\n",
       "      <th>0</th>\n",
       "      <td>1 ingredient4654</td>\n",
       "    </tr>\n",
       "    <tr>\n",
       "      <th>1</th>\n",
       "      <td>2 ingredient5259 ingredient9496</td>\n",
       "    </tr>\n",
       "    <tr>\n",
       "      <th>2</th>\n",
       "      <td>2 ingredient2177 ingredient7332</td>\n",
       "    </tr>\n",
       "    <tr>\n",
       "      <th>3</th>\n",
       "      <td>1 ingredient6321</td>\n",
       "    </tr>\n",
       "    <tr>\n",
       "      <th>4</th>\n",
       "      <td>2 ingredient4951 ingredient8544</td>\n",
       "    </tr>\n",
       "  </tbody>\n",
       "</table>\n",
       "</div>"
      ],
      "text/plain": [
       "                           dislike\n",
       "0                 1 ingredient4654\n",
       "1  2 ingredient5259 ingredient9496\n",
       "2  2 ingredient2177 ingredient7332\n",
       "3                 1 ingredient6321\n",
       "4  2 ingredient4951 ingredient8544"
      ]
     },
     "execution_count": 13,
     "metadata": {},
     "output_type": "execute_result"
    }
   ],
   "source": [
    "df6=df4.drop([\"like\",\"no_of_like\",\"no_of_dislike\"],axis=1)\n",
    "df6.head()"
   ]
  },
  {
   "cell_type": "code",
   "execution_count": 18,
   "id": "4d1fe9c6",
   "metadata": {},
   "outputs": [],
   "source": [
    "for n in range(1,6):\n",
    " df5[\"like\" + str(n)]= df5[\"like\"].apply(lambda x : x.split(\" \")[n] if len(x.split())>n else 0)\n"
   ]
  },
  {
   "cell_type": "code",
   "execution_count": 19,
   "id": "b3ba173c",
   "metadata": {},
   "outputs": [
    {
     "data": {
      "text/html": [
       "<div>\n",
       "<style scoped>\n",
       "    .dataframe tbody tr th:only-of-type {\n",
       "        vertical-align: middle;\n",
       "    }\n",
       "\n",
       "    .dataframe tbody tr th {\n",
       "        vertical-align: top;\n",
       "    }\n",
       "\n",
       "    .dataframe thead th {\n",
       "        text-align: right;\n",
       "    }\n",
       "</style>\n",
       "<table border=\"1\" class=\"dataframe\">\n",
       "  <thead>\n",
       "    <tr style=\"text-align: right;\">\n",
       "      <th></th>\n",
       "      <th>like</th>\n",
       "      <th>like1</th>\n",
       "      <th>like2</th>\n",
       "      <th>like3</th>\n",
       "      <th>like4</th>\n",
       "      <th>like5</th>\n",
       "    </tr>\n",
       "  </thead>\n",
       "  <tbody>\n",
       "    <tr>\n",
       "      <th>0</th>\n",
       "      <td>5 ingredient9922 ingredient3341 ingredient7670...</td>\n",
       "      <td>ingredient9922</td>\n",
       "      <td>ingredient3341</td>\n",
       "      <td>ingredient7670</td>\n",
       "      <td>ingredient7324</td>\n",
       "      <td>ingredient9885</td>\n",
       "    </tr>\n",
       "    <tr>\n",
       "      <th>1</th>\n",
       "      <td>5 ingredient2920 ingredient1643 ingredient5580...</td>\n",
       "      <td>ingredient2920</td>\n",
       "      <td>ingredient1643</td>\n",
       "      <td>ingredient5580</td>\n",
       "      <td>ingredient4239</td>\n",
       "      <td>ingredient7087</td>\n",
       "    </tr>\n",
       "    <tr>\n",
       "      <th>2</th>\n",
       "      <td>4 ingredient2857 ingredient9130 ingredient4932...</td>\n",
       "      <td>ingredient2857</td>\n",
       "      <td>ingredient9130</td>\n",
       "      <td>ingredient4932</td>\n",
       "      <td>ingredient664</td>\n",
       "      <td>0</td>\n",
       "    </tr>\n",
       "    <tr>\n",
       "      <th>3</th>\n",
       "      <td>5 ingredient8806 ingredient5320 ingredient569 ...</td>\n",
       "      <td>ingredient8806</td>\n",
       "      <td>ingredient5320</td>\n",
       "      <td>ingredient569</td>\n",
       "      <td>ingredient3724</td>\n",
       "      <td>ingredient656</td>\n",
       "    </tr>\n",
       "    <tr>\n",
       "      <th>4</th>\n",
       "      <td>2 ingredient697 ingredient8002</td>\n",
       "      <td>ingredient697</td>\n",
       "      <td>ingredient8002</td>\n",
       "      <td>0</td>\n",
       "      <td>0</td>\n",
       "      <td>0</td>\n",
       "    </tr>\n",
       "  </tbody>\n",
       "</table>\n",
       "</div>"
      ],
      "text/plain": [
       "                                                like           like1  \\\n",
       "0  5 ingredient9922 ingredient3341 ingredient7670...  ingredient9922   \n",
       "1  5 ingredient2920 ingredient1643 ingredient5580...  ingredient2920   \n",
       "2  4 ingredient2857 ingredient9130 ingredient4932...  ingredient2857   \n",
       "3  5 ingredient8806 ingredient5320 ingredient569 ...  ingredient8806   \n",
       "4                     2 ingredient697 ingredient8002   ingredient697   \n",
       "\n",
       "            like2           like3           like4           like5  \n",
       "0  ingredient3341  ingredient7670  ingredient7324  ingredient9885  \n",
       "1  ingredient1643  ingredient5580  ingredient4239  ingredient7087  \n",
       "2  ingredient9130  ingredient4932   ingredient664               0  \n",
       "3  ingredient5320   ingredient569  ingredient3724   ingredient656  \n",
       "4  ingredient8002               0               0               0  "
      ]
     },
     "execution_count": 19,
     "metadata": {},
     "output_type": "execute_result"
    }
   ],
   "source": [
    "df5.drop([\"like\"],axis=1)\n",
    "df5.head()"
   ]
  },
  {
   "cell_type": "code",
   "execution_count": 22,
   "id": "cbcebe7f",
   "metadata": {},
   "outputs": [
    {
     "data": {
      "text/plain": [
       "like  0    5 ingredient9922 ingredient3341 ingredient7670...\n",
       "      1    5 ingredient2920 ingredient1643 ingredient5580...\n",
       "      2    4 ingredient2857 ingredient9130 ingredient4932...\n",
       "      3    5 ingredient8806 ingredient5320 ingredient569 ...\n",
       "      4                       2 ingredient697 ingredient8002\n",
       "dtype: object"
      ]
     },
     "execution_count": 22,
     "metadata": {},
     "output_type": "execute_result"
    }
   ],
   "source": [
    "df5=df5.unstack()\n",
    "df5.head()"
   ]
  },
  {
   "cell_type": "code",
   "execution_count": 23,
   "id": "c8a4eaeb",
   "metadata": {},
   "outputs": [
    {
     "data": {
      "text/plain": [
       "0                 5084\n",
       "ingredient8011       6\n",
       "ingredient4042       5\n",
       "ingredient8029       5\n",
       "ingredient2194       5\n",
       "dtype: int64"
      ]
     },
     "execution_count": 23,
     "metadata": {},
     "output_type": "execute_result"
    }
   ],
   "source": [
    "df5=df5.value_counts()\n",
    "df5.head()"
   ]
  },
  {
   "cell_type": "code",
   "execution_count": 24,
   "id": "f8b95aca",
   "metadata": {},
   "outputs": [
    {
     "data": {
      "text/html": [
       "<div>\n",
       "<style scoped>\n",
       "    .dataframe tbody tr th:only-of-type {\n",
       "        vertical-align: middle;\n",
       "    }\n",
       "\n",
       "    .dataframe tbody tr th {\n",
       "        vertical-align: top;\n",
       "    }\n",
       "\n",
       "    .dataframe thead th {\n",
       "        text-align: right;\n",
       "    }\n",
       "</style>\n",
       "<table border=\"1\" class=\"dataframe\">\n",
       "  <thead>\n",
       "    <tr style=\"text-align: right;\">\n",
       "      <th></th>\n",
       "      <th>0</th>\n",
       "    </tr>\n",
       "  </thead>\n",
       "  <tbody>\n",
       "    <tr>\n",
       "      <th>0</th>\n",
       "      <td>5084</td>\n",
       "    </tr>\n",
       "    <tr>\n",
       "      <th>ingredient8011</th>\n",
       "      <td>6</td>\n",
       "    </tr>\n",
       "    <tr>\n",
       "      <th>ingredient4042</th>\n",
       "      <td>5</td>\n",
       "    </tr>\n",
       "    <tr>\n",
       "      <th>ingredient8029</th>\n",
       "      <td>5</td>\n",
       "    </tr>\n",
       "    <tr>\n",
       "      <th>ingredient2194</th>\n",
       "      <td>5</td>\n",
       "    </tr>\n",
       "  </tbody>\n",
       "</table>\n",
       "</div>"
      ],
      "text/plain": [
       "                   0\n",
       "0               5084\n",
       "ingredient8011     6\n",
       "ingredient4042     5\n",
       "ingredient8029     5\n",
       "ingredient2194     5"
      ]
     },
     "execution_count": 24,
     "metadata": {},
     "output_type": "execute_result"
    }
   ],
   "source": [
    "df5=df5.to_frame()\n",
    "df5.head()"
   ]
  },
  {
   "cell_type": "code",
   "execution_count": 25,
   "id": "139df9fa",
   "metadata": {},
   "outputs": [
    {
     "data": {
      "text/html": [
       "<div>\n",
       "<style scoped>\n",
       "    .dataframe tbody tr th:only-of-type {\n",
       "        vertical-align: middle;\n",
       "    }\n",
       "\n",
       "    .dataframe tbody tr th {\n",
       "        vertical-align: top;\n",
       "    }\n",
       "\n",
       "    .dataframe thead th {\n",
       "        text-align: right;\n",
       "    }\n",
       "</style>\n",
       "<table border=\"1\" class=\"dataframe\">\n",
       "  <thead>\n",
       "    <tr style=\"text-align: right;\">\n",
       "      <th></th>\n",
       "      <th>0</th>\n",
       "    </tr>\n",
       "  </thead>\n",
       "  <tbody>\n",
       "    <tr>\n",
       "      <th>ingredient8011</th>\n",
       "      <td>6</td>\n",
       "    </tr>\n",
       "    <tr>\n",
       "      <th>ingredient4042</th>\n",
       "      <td>5</td>\n",
       "    </tr>\n",
       "    <tr>\n",
       "      <th>ingredient8029</th>\n",
       "      <td>5</td>\n",
       "    </tr>\n",
       "    <tr>\n",
       "      <th>ingredient2194</th>\n",
       "      <td>5</td>\n",
       "    </tr>\n",
       "    <tr>\n",
       "      <th>ingredient2611</th>\n",
       "      <td>5</td>\n",
       "    </tr>\n",
       "  </tbody>\n",
       "</table>\n",
       "</div>"
      ],
      "text/plain": [
       "                0\n",
       "ingredient8011  6\n",
       "ingredient4042  5\n",
       "ingredient8029  5\n",
       "ingredient2194  5\n",
       "ingredient2611  5"
      ]
     },
     "execution_count": 25,
     "metadata": {},
     "output_type": "execute_result"
    }
   ],
   "source": [
    "df5=df5.iloc[1:,:]\n",
    "df5.head()"
   ]
  },
  {
   "cell_type": "code",
   "execution_count": 27,
   "id": "784859b0",
   "metadata": {},
   "outputs": [
    {
     "data": {
      "text/html": [
       "<div>\n",
       "<style scoped>\n",
       "    .dataframe tbody tr th:only-of-type {\n",
       "        vertical-align: middle;\n",
       "    }\n",
       "\n",
       "    .dataframe tbody tr th {\n",
       "        vertical-align: top;\n",
       "    }\n",
       "\n",
       "    .dataframe thead th {\n",
       "        text-align: right;\n",
       "    }\n",
       "</style>\n",
       "<table border=\"1\" class=\"dataframe\">\n",
       "  <thead>\n",
       "    <tr style=\"text-align: right;\">\n",
       "      <th></th>\n",
       "      <th>like_score</th>\n",
       "    </tr>\n",
       "  </thead>\n",
       "  <tbody>\n",
       "    <tr>\n",
       "      <th>ingredient8011</th>\n",
       "      <td>6</td>\n",
       "    </tr>\n",
       "    <tr>\n",
       "      <th>ingredient4042</th>\n",
       "      <td>5</td>\n",
       "    </tr>\n",
       "    <tr>\n",
       "      <th>ingredient8029</th>\n",
       "      <td>5</td>\n",
       "    </tr>\n",
       "    <tr>\n",
       "      <th>ingredient2194</th>\n",
       "      <td>5</td>\n",
       "    </tr>\n",
       "    <tr>\n",
       "      <th>ingredient2611</th>\n",
       "      <td>5</td>\n",
       "    </tr>\n",
       "  </tbody>\n",
       "</table>\n",
       "</div>"
      ],
      "text/plain": [
       "                like_score\n",
       "ingredient8011           6\n",
       "ingredient4042           5\n",
       "ingredient8029           5\n",
       "ingredient2194           5\n",
       "ingredient2611           5"
      ]
     },
     "execution_count": 27,
     "metadata": {},
     "output_type": "execute_result"
    }
   ],
   "source": [
    "df5=df5.set_axis(['like_score'],axis=1,inplace=False)\n",
    "df5.head()"
   ]
  },
  {
   "cell_type": "code",
   "execution_count": 29,
   "id": "4488cf52",
   "metadata": {},
   "outputs": [
    {
     "data": {
      "text/html": [
       "<div>\n",
       "<style scoped>\n",
       "    .dataframe tbody tr th:only-of-type {\n",
       "        vertical-align: middle;\n",
       "    }\n",
       "\n",
       "    .dataframe tbody tr th {\n",
       "        vertical-align: top;\n",
       "    }\n",
       "\n",
       "    .dataframe thead th {\n",
       "        text-align: right;\n",
       "    }\n",
       "</style>\n",
       "<table border=\"1\" class=\"dataframe\">\n",
       "  <thead>\n",
       "    <tr style=\"text-align: right;\">\n",
       "      <th></th>\n",
       "      <th>dislike1</th>\n",
       "      <th>dislike2</th>\n",
       "    </tr>\n",
       "  </thead>\n",
       "  <tbody>\n",
       "    <tr>\n",
       "      <th>0</th>\n",
       "      <td>ingredient4654</td>\n",
       "      <td>0</td>\n",
       "    </tr>\n",
       "    <tr>\n",
       "      <th>1</th>\n",
       "      <td>ingredient5259</td>\n",
       "      <td>ingredient9496</td>\n",
       "    </tr>\n",
       "    <tr>\n",
       "      <th>2</th>\n",
       "      <td>ingredient2177</td>\n",
       "      <td>ingredient7332</td>\n",
       "    </tr>\n",
       "    <tr>\n",
       "      <th>3</th>\n",
       "      <td>ingredient6321</td>\n",
       "      <td>0</td>\n",
       "    </tr>\n",
       "    <tr>\n",
       "      <th>4</th>\n",
       "      <td>ingredient4951</td>\n",
       "      <td>ingredient8544</td>\n",
       "    </tr>\n",
       "  </tbody>\n",
       "</table>\n",
       "</div>"
      ],
      "text/plain": [
       "         dislike1        dislike2\n",
       "0  ingredient4654               0\n",
       "1  ingredient5259  ingredient9496\n",
       "2  ingredient2177  ingredient7332\n",
       "3  ingredient6321               0\n",
       "4  ingredient4951  ingredient8544"
      ]
     },
     "execution_count": 29,
     "metadata": {},
     "output_type": "execute_result"
    }
   ],
   "source": [
    "for n in range(1,3):\n",
    " df6[\"dislike\"+str(n)]=df6[\"dislike\"].apply(lambda x:x.split(\" \")[n] if len(x.split())> n else 0)\n",
    "df6=df6.drop([\"dislike\"],axis=1)\n",
    "df6.head()"
   ]
  },
  {
   "cell_type": "code",
   "execution_count": 30,
   "id": "2c106f0e",
   "metadata": {},
   "outputs": [
    {
     "data": {
      "text/plain": [
       "dislike1  0    ingredient4654\n",
       "          1    ingredient5259\n",
       "          2    ingredient2177\n",
       "          3    ingredient6321\n",
       "          4    ingredient4951\n",
       "dtype: object"
      ]
     },
     "execution_count": 30,
     "metadata": {},
     "output_type": "execute_result"
    }
   ],
   "source": [
    "df6=df6.unstack()\n",
    "df6.head()"
   ]
  },
  {
   "cell_type": "code",
   "execution_count": 31,
   "id": "2da2b347",
   "metadata": {},
   "outputs": [
    {
     "data": {
      "text/plain": [
       "0                 2533\n",
       "ingredient9156       3\n",
       "ingredient7017       3\n",
       "ingredient1672       3\n",
       "ingredient5411       3\n",
       "dtype: int64"
      ]
     },
     "execution_count": 31,
     "metadata": {},
     "output_type": "execute_result"
    }
   ],
   "source": [
    "df6=df6.value_counts()\n",
    "df6.head()"
   ]
  },
  {
   "cell_type": "code",
   "execution_count": 63,
   "id": "34d8441a",
   "metadata": {},
   "outputs": [
    {
     "data": {
      "text/html": [
       "<div>\n",
       "<style scoped>\n",
       "    .dataframe tbody tr th:only-of-type {\n",
       "        vertical-align: middle;\n",
       "    }\n",
       "\n",
       "    .dataframe tbody tr th {\n",
       "        vertical-align: top;\n",
       "    }\n",
       "\n",
       "    .dataframe thead th {\n",
       "        text-align: right;\n",
       "    }\n",
       "</style>\n",
       "<table border=\"1\" class=\"dataframe\">\n",
       "  <thead>\n",
       "    <tr style=\"text-align: right;\">\n",
       "      <th></th>\n",
       "      <th>dislike_score</th>\n",
       "    </tr>\n",
       "  </thead>\n",
       "  <tbody>\n",
       "    <tr>\n",
       "      <th>ingredient1672</th>\n",
       "      <td>3</td>\n",
       "    </tr>\n",
       "    <tr>\n",
       "      <th>ingredient5411</th>\n",
       "      <td>3</td>\n",
       "    </tr>\n",
       "    <tr>\n",
       "      <th>ingredient2271</th>\n",
       "      <td>3</td>\n",
       "    </tr>\n",
       "    <tr>\n",
       "      <th>ingredient1881</th>\n",
       "      <td>3</td>\n",
       "    </tr>\n",
       "    <tr>\n",
       "      <th>ingredient4414</th>\n",
       "      <td>3</td>\n",
       "    </tr>\n",
       "  </tbody>\n",
       "</table>\n",
       "</div>"
      ],
      "text/plain": [
       "                dislike_score\n",
       "ingredient1672              3\n",
       "ingredient5411              3\n",
       "ingredient2271              3\n",
       "ingredient1881              3\n",
       "ingredient4414              3"
      ]
     },
     "execution_count": 63,
     "metadata": {},
     "output_type": "execute_result"
    }
   ],
   "source": [
    "df6 = df6.set_axis(['dislike_score'], axis=1, inplace=False)\n",
    "df6 = df6.iloc[1: , :]\n",
    "\n",
    "df6.head()"
   ]
  },
  {
   "cell_type": "code",
   "execution_count": 42,
   "id": "1bcb8229",
   "metadata": {},
   "outputs": [
    {
     "data": {
      "text/html": [
       "<div>\n",
       "<style scoped>\n",
       "    .dataframe tbody tr th:only-of-type {\n",
       "        vertical-align: middle;\n",
       "    }\n",
       "\n",
       "    .dataframe tbody tr th {\n",
       "        vertical-align: top;\n",
       "    }\n",
       "\n",
       "    .dataframe thead th {\n",
       "        text-align: right;\n",
       "    }\n",
       "</style>\n",
       "<table border=\"1\" class=\"dataframe\">\n",
       "  <thead>\n",
       "    <tr style=\"text-align: right;\">\n",
       "      <th></th>\n",
       "      <th>like_score</th>\n",
       "      <th>dislike_score</th>\n",
       "    </tr>\n",
       "  </thead>\n",
       "  <tbody>\n",
       "    <tr>\n",
       "      <th>ingredient8011</th>\n",
       "      <td>6.0</td>\n",
       "      <td>NaN</td>\n",
       "    </tr>\n",
       "    <tr>\n",
       "      <th>ingredient4042</th>\n",
       "      <td>5.0</td>\n",
       "      <td>NaN</td>\n",
       "    </tr>\n",
       "    <tr>\n",
       "      <th>ingredient8029</th>\n",
       "      <td>5.0</td>\n",
       "      <td>1.0</td>\n",
       "    </tr>\n",
       "    <tr>\n",
       "      <th>ingredient2194</th>\n",
       "      <td>5.0</td>\n",
       "      <td>NaN</td>\n",
       "    </tr>\n",
       "    <tr>\n",
       "      <th>ingredient2611</th>\n",
       "      <td>5.0</td>\n",
       "      <td>NaN</td>\n",
       "    </tr>\n",
       "  </tbody>\n",
       "</table>\n",
       "</div>"
      ],
      "text/plain": [
       "                like_score  dislike_score\n",
       "ingredient8011         6.0            NaN\n",
       "ingredient4042         5.0            NaN\n",
       "ingredient8029         5.0            1.0\n",
       "ingredient2194         5.0            NaN\n",
       "ingredient2611         5.0            NaN"
      ]
     },
     "execution_count": 42,
     "metadata": {},
     "output_type": "execute_result"
    }
   ],
   "source": [
    "df7=pd.concat([df5,df6],axis=1)\n",
    "df7.head()"
   ]
  },
  {
   "cell_type": "code",
   "execution_count": 44,
   "id": "99db3476",
   "metadata": {},
   "outputs": [
    {
     "data": {
      "text/html": [
       "<div>\n",
       "<style scoped>\n",
       "    .dataframe tbody tr th:only-of-type {\n",
       "        vertical-align: middle;\n",
       "    }\n",
       "\n",
       "    .dataframe tbody tr th {\n",
       "        vertical-align: top;\n",
       "    }\n",
       "\n",
       "    .dataframe thead th {\n",
       "        text-align: right;\n",
       "    }\n",
       "</style>\n",
       "<table border=\"1\" class=\"dataframe\">\n",
       "  <thead>\n",
       "    <tr style=\"text-align: right;\">\n",
       "      <th></th>\n",
       "      <th>like_score</th>\n",
       "      <th>dislike_score</th>\n",
       "    </tr>\n",
       "  </thead>\n",
       "  <tbody>\n",
       "    <tr>\n",
       "      <th>ingredient8011</th>\n",
       "      <td>6.0</td>\n",
       "      <td>0.0</td>\n",
       "    </tr>\n",
       "    <tr>\n",
       "      <th>ingredient4042</th>\n",
       "      <td>5.0</td>\n",
       "      <td>0.0</td>\n",
       "    </tr>\n",
       "    <tr>\n",
       "      <th>ingredient8029</th>\n",
       "      <td>5.0</td>\n",
       "      <td>1.0</td>\n",
       "    </tr>\n",
       "    <tr>\n",
       "      <th>ingredient2194</th>\n",
       "      <td>5.0</td>\n",
       "      <td>0.0</td>\n",
       "    </tr>\n",
       "    <tr>\n",
       "      <th>ingredient2611</th>\n",
       "      <td>5.0</td>\n",
       "      <td>0.0</td>\n",
       "    </tr>\n",
       "  </tbody>\n",
       "</table>\n",
       "</div>"
      ],
      "text/plain": [
       "                like_score  dislike_score\n",
       "ingredient8011         6.0            0.0\n",
       "ingredient4042         5.0            0.0\n",
       "ingredient8029         5.0            1.0\n",
       "ingredient2194         5.0            0.0\n",
       "ingredient2611         5.0            0.0"
      ]
     },
     "execution_count": 44,
     "metadata": {},
     "output_type": "execute_result"
    }
   ],
   "source": [
    "df7=df7.fillna(0)\n",
    "df7.head()\n"
   ]
  },
  {
   "cell_type": "code",
   "execution_count": 45,
   "id": "b04ba45c",
   "metadata": {},
   "outputs": [
    {
     "data": {
      "text/html": [
       "<div>\n",
       "<style scoped>\n",
       "    .dataframe tbody tr th:only-of-type {\n",
       "        vertical-align: middle;\n",
       "    }\n",
       "\n",
       "    .dataframe tbody tr th {\n",
       "        vertical-align: top;\n",
       "    }\n",
       "\n",
       "    .dataframe thead th {\n",
       "        text-align: right;\n",
       "    }\n",
       "</style>\n",
       "<table border=\"1\" class=\"dataframe\">\n",
       "  <thead>\n",
       "    <tr style=\"text-align: right;\">\n",
       "      <th></th>\n",
       "      <th>like_score</th>\n",
       "      <th>dislike_score</th>\n",
       "      <th>Ingredient</th>\n",
       "    </tr>\n",
       "  </thead>\n",
       "  <tbody>\n",
       "    <tr>\n",
       "      <th>ingredient8011</th>\n",
       "      <td>6.0</td>\n",
       "      <td>0.0</td>\n",
       "      <td>ingredient8011</td>\n",
       "    </tr>\n",
       "    <tr>\n",
       "      <th>ingredient4042</th>\n",
       "      <td>5.0</td>\n",
       "      <td>0.0</td>\n",
       "      <td>ingredient4042</td>\n",
       "    </tr>\n",
       "    <tr>\n",
       "      <th>ingredient8029</th>\n",
       "      <td>5.0</td>\n",
       "      <td>1.0</td>\n",
       "      <td>ingredient8029</td>\n",
       "    </tr>\n",
       "    <tr>\n",
       "      <th>ingredient2194</th>\n",
       "      <td>5.0</td>\n",
       "      <td>0.0</td>\n",
       "      <td>ingredient2194</td>\n",
       "    </tr>\n",
       "    <tr>\n",
       "      <th>ingredient2611</th>\n",
       "      <td>5.0</td>\n",
       "      <td>0.0</td>\n",
       "      <td>ingredient2611</td>\n",
       "    </tr>\n",
       "  </tbody>\n",
       "</table>\n",
       "</div>"
      ],
      "text/plain": [
       "                like_score  dislike_score      Ingredient\n",
       "ingredient8011         6.0            0.0  ingredient8011\n",
       "ingredient4042         5.0            0.0  ingredient4042\n",
       "ingredient8029         5.0            1.0  ingredient8029\n",
       "ingredient2194         5.0            0.0  ingredient2194\n",
       "ingredient2611         5.0            0.0  ingredient2611"
      ]
     },
     "execution_count": 45,
     "metadata": {},
     "output_type": "execute_result"
    }
   ],
   "source": [
    "df7[\"Ingredient\"]=df7.index\n",
    "df7.head()"
   ]
  },
  {
   "cell_type": "code",
   "execution_count": 46,
   "id": "6e403584",
   "metadata": {},
   "outputs": [],
   "source": [
    "Ingre_list=[]\n",
    "for n in range(1,len(df7)):\n",
    "    if df7.iloc[n,0] >= df7.iloc[n,1]:\n",
    "        Ingre_list.append(df7.iloc[n,2])"
   ]
  },
  {
   "cell_type": "code",
   "execution_count": 47,
   "id": "f368822e",
   "metadata": {},
   "outputs": [
    {
     "data": {
      "text/plain": [
       "8237"
      ]
     },
     "execution_count": 47,
     "metadata": {},
     "output_type": "execute_result"
    }
   ],
   "source": [
    "len(Ingre_list)"
   ]
  },
  {
   "cell_type": "code",
   "execution_count": 50,
   "id": "da91e465",
   "metadata": {},
   "outputs": [
    {
     "data": {
      "text/plain": [
       "199423"
      ]
     },
     "execution_count": 50,
     "metadata": {},
     "output_type": "execute_result"
    }
   ],
   "source": [
    "str1=\"\"\n",
    "for i in Ingre_list:\n",
    "    str1=str1+\" \"+i\n",
    "    \n",
    "ans=str(len(Ingre_list))+\" \"+str1\n",
    "newfile=open(\"Ans.txt\",\"w+\")\n",
    "newfile.write(ans)"
   ]
  },
  {
   "cell_type": "code",
   "execution_count": null,
   "id": "c001b6d6",
   "metadata": {},
   "outputs": [],
   "source": [
    "\n",
    "    "
   ]
  },
  {
   "cell_type": "code",
   "execution_count": null,
   "id": "779095b0",
   "metadata": {},
   "outputs": [],
   "source": []
  }
 ],
 "metadata": {
  "kernelspec": {
   "display_name": "Python 3 (ipykernel)",
   "language": "python",
   "name": "python3"
  },
  "language_info": {
   "codemirror_mode": {
    "name": "ipython",
    "version": 3
   },
   "file_extension": ".py",
   "mimetype": "text/x-python",
   "name": "python",
   "nbconvert_exporter": "python",
   "pygments_lexer": "ipython3",
   "version": "3.10.1"
  }
 },
 "nbformat": 4,
 "nbformat_minor": 5
}
